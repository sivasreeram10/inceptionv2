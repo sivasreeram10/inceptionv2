{
  "nbformat": 4,
  "nbformat_minor": 0,
  "metadata": {
    "colab": {
      "private_outputs": true,
      "provenance": []
    },
    "kernelspec": {
      "name": "python3",
      "display_name": "Python 3"
    },
    "language_info": {
      "name": "python"
    }
  },
  "cells": [
    {
      "cell_type": "code",
      "source": [
        "from google.colab import drive\n",
        "drive.mount('/content/drive')"
      ],
      "metadata": {
        "id": "CMb6rNUcrSh_"
      },
      "execution_count": null,
      "outputs": []
    },
    {
      "cell_type": "code",
      "source": [
        "import os\n",
        "\n",
        "# Path to the ZIP file\n",
        "zip_path = \"/content/drive/MyDrive/archive (4).zip\"  # Update with your actual file path\n",
        "extract_path = \"/content/dataset\"  # Target directory for extraction\n",
        "\n",
        "# Unzip the file\n",
        "os.system(f\"unzip -q {zip_path} -d {extract_path}\")\n",
        "print(f\"✅ Dataset extracted to: {extract_path}\")"
      ],
      "metadata": {
        "id": "l8EXOlAFrjFi"
      },
      "execution_count": null,
      "outputs": []
    },
    {
      "cell_type": "code",
      "source": [
        "import tensorflow as tf\n",
        "from tensorflow.keras.preprocessing.image import ImageDataGenerator\n",
        "from tensorflow.keras.models import Sequential\n",
        "from tensorflow.keras.layers import Conv2D, MaxPooling2D, Flatten, Dense, Dropout, BatchNormalization, GlobalAveragePooling2D\n",
        "from tensorflow.keras.applications import ResNet50, InceptionV3\n",
        "from tensorflow.keras.applications.resnet50 import preprocess_input\n",
        "from tensorflow.keras.callbacks import EarlyStopping, ModelCheckpoint\n",
        "from tensorflow.keras.utils import to_categorical\n",
        "from sklearn.utils import class_weight\n",
        "from keras.optimizers import Adam\n",
        "from sklearn.metrics import classification_report, confusion_matrix, precision_score, recall_score, f1_score\n",
        "import numpy as np\n",
        "from PIL import Image\n",
        "from keras.preprocessing.image import img_to_array, load_img\n",
        "import pandas as pd\n",
        "import matplotlib.pyplot as plt\n",
        "import seaborn as sns\n",
        "import matplotlib.pyplot as plt\n",
        "import numpy as np\n",
        "from scipy.ndimage import sobel\n",
        "from skimage.filters import scharr"
      ],
      "metadata": {
        "trusted": true,
        "execution": {
          "iopub.status.busy": "2025-01-17T06:18:00.186836Z",
          "iopub.execute_input": "2025-01-17T06:18:00.188148Z",
          "iopub.status.idle": "2025-01-17T06:18:00.196177Z",
          "shell.execute_reply.started": "2025-01-17T06:18:00.188101Z",
          "shell.execute_reply": "2025-01-17T06:18:00.19472Z"
        },
        "id": "SAqYywUJrG53"
      },
      "outputs": [],
      "execution_count": null
    },
    {
      "cell_type": "code",
      "source": [
        "data_dir = '/kaggle/input/banana-disease-recognition-dataset/Banana Disease Recognition Dataset/Augmented images/Augmented images'\n",
        "datagen = ImageDataGenerator(validation_split=0.2, rescale=1./255)\n",
        "train_generator = datagen.flow_from_directory(data_dir, target_size=(128, 128), batch_size=32, class_mode='categorical', subset='training')\n",
        "val_generator = datagen.flow_from_directory(data_dir, target_size=(128, 128), batch_size=32, class_mode='categorical', subset='validation')"
      ],
      "metadata": {
        "trusted": true,
        "execution": {
          "iopub.status.busy": "2025-01-17T06:18:05.645538Z",
          "iopub.execute_input": "2025-01-17T06:18:05.645974Z",
          "iopub.status.idle": "2025-01-17T06:18:05.907808Z",
          "shell.execute_reply.started": "2025-01-17T06:18:05.645946Z",
          "shell.execute_reply": "2025-01-17T06:18:05.906438Z"
        },
        "id": "wrnz7Jz9rG53"
      },
      "outputs": [],
      "execution_count": null
    },
    {
      "cell_type": "code",
      "source": [
        "class_weights = class_weight.compute_class_weight('balanced', classes=np.unique(train_generator.classes), y=train_generator.classes)\n",
        "class_weights = {i : class_weights[i] for i in range(len(class_weights))}"
      ],
      "metadata": {
        "trusted": true,
        "execution": {
          "iopub.status.busy": "2025-01-17T06:18:28.674902Z",
          "iopub.execute_input": "2025-01-17T06:18:28.675324Z",
          "iopub.status.idle": "2025-01-17T06:18:28.684158Z",
          "shell.execute_reply.started": "2025-01-17T06:18:28.675298Z",
          "shell.execute_reply": "2025-01-17T06:18:28.682716Z"
        },
        "id": "XBsp1SB5rG54"
      },
      "outputs": [],
      "execution_count": null
    },
    {
      "cell_type": "code",
      "source": [
        "class_weights"
      ],
      "metadata": {
        "trusted": true,
        "execution": {
          "iopub.status.busy": "2025-01-17T06:18:33.911624Z",
          "iopub.execute_input": "2025-01-17T06:18:33.911986Z",
          "iopub.status.idle": "2025-01-17T06:18:33.919841Z",
          "shell.execute_reply.started": "2025-01-17T06:18:33.911958Z",
          "shell.execute_reply": "2025-01-17T06:18:33.918508Z"
        },
        "id": "AVdmLp3YrG55"
      },
      "outputs": [],
      "execution_count": null
    },
    {
      "cell_type": "code",
      "source": [
        "images, labels = next(train_generator)\n",
        "\n",
        "def plot_images(images_arr, labels_arr):\n",
        "    fig, axes = plt.subplots(4, 8, figsize=(20, 10))\n",
        "    axes = axes.flatten()\n",
        "    for img, lbl, ax in zip(images_arr, labels_arr, axes):\n",
        "        ax.imshow(img)\n",
        "        ax.axis('off')\n",
        "        ax.set_title(np.argmax(lbl))\n",
        "    plt.tight_layout()\n",
        "    plt.show()\n",
        "\n",
        "plot_images(images, labels)"
      ],
      "metadata": {
        "trusted": true,
        "execution": {
          "iopub.status.busy": "2025-01-17T06:18:40.246835Z",
          "iopub.execute_input": "2025-01-17T06:18:40.247317Z",
          "iopub.status.idle": "2025-01-17T06:18:43.975014Z",
          "shell.execute_reply.started": "2025-01-17T06:18:40.247284Z",
          "shell.execute_reply": "2025-01-17T06:18:43.973154Z"
        },
        "id": "RDO36ymRrG56",
        "collapsed": true
      },
      "outputs": [],
      "execution_count": null
    },
    {
      "cell_type": "code",
      "source": [
        "def plot_sobel_images(original_images, sobel_images, labels_arr):\n",
        "    fig, axes = plt.subplots(4, 8, figsize=(20, 10))\n",
        "    axes = axes.flatten()\n",
        "    for orig_img, sob_img, lbl, ax in zip(original_images, sobel_images, labels_arr, axes):\n",
        "        ax.imshow(sob_img, cmap='gray')\n",
        "        ax.axis('off')\n",
        "        ax.set_title(np.argmax(lbl))\n",
        "    plt.tight_layout()\n",
        "    plt.show()\n",
        "\n",
        "plot_sobel_images(images, sobel_images, labels)"
      ],
      "metadata": {
        "trusted": true,
        "execution": {
          "iopub.status.busy": "2025-01-17T06:19:05.403155Z",
          "iopub.execute_input": "2025-01-17T06:19:05.403657Z",
          "iopub.status.idle": "2025-01-17T06:19:08.652038Z",
          "shell.execute_reply.started": "2025-01-17T06:19:05.403626Z",
          "shell.execute_reply": "2025-01-17T06:19:08.649777Z"
        },
        "id": "rUtDuA64rG57"
      },
      "outputs": [],
      "execution_count": null
    },
    {
      "cell_type": "code",
      "source": [
        "def apply_sobel(images_arr):\n",
        "    sobel_images = []\n",
        "    for img in images_arr:\n",
        "        gray_img = np.dot(img[...,:3], [0.2989, 0.5870, 0.1140])\n",
        "        sobel_x = sobel(gray_img, axis=0, mode='constant')\n",
        "        sobel_y = sobel(gray_img, axis=1, mode='constant')\n",
        "        sobel_img = np.hypot(sobel_x, sobel_y)\n",
        "        sobel_images.append(sobel_img)\n",
        "    return np.array(sobel_images)\n",
        "\n",
        "sobel_images = apply_sobel(images)"
      ],
      "metadata": {
        "trusted": true,
        "execution": {
          "iopub.status.busy": "2025-01-17T06:18:59.28038Z",
          "iopub.execute_input": "2025-01-17T06:18:59.28146Z",
          "iopub.status.idle": "2025-01-17T06:18:59.330374Z",
          "shell.execute_reply.started": "2025-01-17T06:18:59.281421Z",
          "shell.execute_reply": "2025-01-17T06:18:59.32925Z"
        },
        "id": "GqdayscyrG56"
      },
      "outputs": [],
      "execution_count": null
    },
    {
      "cell_type": "code",
      "source": [
        "type(train_generator)"
      ],
      "metadata": {
        "trusted": true,
        "id": "r7XL9foOrG57"
      },
      "outputs": [],
      "execution_count": null
    },
    {
      "cell_type": "code",
      "source": [
        "base_model_inception = InceptionV3(weights='imagenet', include_top=False, input_shape=(128, 128, 3))\n",
        "\n",
        "\n",
        "model_inception = Sequential([\n",
        "    base_model_inception,\n",
        "    GlobalAveragePooling2D(),\n",
        "\n",
        "    Dense(128, activation='relu'),\n",
        "    BatchNormalization(),\n",
        "    Dropout(0.5),\n",
        "\n",
        "    Dense(7, activation='softmax')\n",
        "])"
      ],
      "metadata": {
        "trusted": true,
        "id": "f83vrdCNrG59"
      },
      "outputs": [],
      "execution_count": null
    },
    {
      "cell_type": "code",
      "source": [
        "base_model_inception.trainable = False\n",
        "model_inception.compile(optimizer='adam', loss='categorical_crossentropy', metrics=['accuracy', tf.keras.metrics.Precision(), tf.keras.metrics.Recall()])\n",
        "model_inception.summary()"
      ],
      "metadata": {
        "trusted": true,
        "id": "AaDe5RTkrG59"
      },
      "outputs": [],
      "execution_count": null
    },
    {
      "cell_type": "code",
      "source": [
        "history_inception = model_inception.fit(train_generator, epochs=50, validation_data=val_generator, class_weight=class_weights)"
      ],
      "metadata": {
        "trusted": true,
        "id": "BIcR8PuArG59"
      },
      "outputs": [],
      "execution_count": null
    }
  ]
}